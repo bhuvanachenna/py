{
 "cells": [
  {
   "cell_type": "markdown",
   "id": "4c7f121f",
   "metadata": {},
   "source": [
    "# Data Science Tools and Ecosystem"
   ]
  },
  {
   "cell_type": "markdown",
   "id": "48bc1e86",
   "metadata": {},
   "source": [
    "In this notebook, Data Science Tools and Ecosystem are summarized."
   ]
  },
  {
   "cell_type": "markdown",
   "id": "66f1d854",
   "metadata": {},
   "source": [
    "Some of the popular languages that Data Scientists use are:\n",
    "1.Python\n",
    "2.SQL\n",
    "3.Scala\n",
    "4.Julia\n",
    "5.C/C++\n",
    "6.R\n",
    "7.Java\n",
    "8.JavaScript"
   ]
  },
  {
   "cell_type": "markdown",
   "id": "db0df54f",
   "metadata": {},
   "source": [
    "Some of the commonly used libraries used by Data Scientists include:\n",
    "1.Pandas\n",
    "2.Matplotlib\n",
    "3.TensorFlow\n",
    "4.NumPy\n",
    "5.Scikit-learn\n",
    "6.SciPy\n",
    "7.PyTorch\n",
    "8.Keras"
   ]
  },
  {
   "cell_type": "markdown",
   "id": "2662b7b4",
   "metadata": {},
   "source": [
    "Data Science Tools:\n",
    "Apache Spark\n",
    "Apache Hadoop\n",
    "Matplotlib\n",
    "PyTorch\n",
    "TensorFlow\n",
    "SAS\n",
    "Tableau\n",
    "KNIME"
   ]
  },
  {
   "cell_type": "markdown",
   "id": "b1b50ec6",
   "metadata": {},
   "source": [
    "### Below are a few examples of evaluating arithmetic expressions in Python\n",
    "x=2*3+1\n",
    "y=(5+4)*2"
   ]
  },
  {
   "cell_type": "code",
   "execution_count": 2,
   "id": "0cf592fd",
   "metadata": {},
   "outputs": [
    {
     "data": {
      "text/plain": [
       "17"
      ]
     },
     "execution_count": 2,
     "metadata": {},
     "output_type": "execute_result"
    }
   ],
   "source": [
    "#This a simple arithmetic expression to mutiply then add integers\n",
    "(3*4)+5"
   ]
  },
  {
   "cell_type": "code",
   "execution_count": 4,
   "id": "2678537b",
   "metadata": {},
   "outputs": [
    {
     "name": "stdout",
     "output_type": "stream",
     "text": [
      "Minutes to hours: 2.0\n"
     ]
    }
   ],
   "source": [
    "min=120\n",
    "hrs=min/60\n",
    "print(\"Minutes to hours:\",hrs)"
   ]
  },
  {
   "cell_type": "markdown",
   "id": "c1b4222e",
   "metadata": {},
   "source": [
    "# Objectives:\n",
    "- List popular languages for Data Science:\n",
    "- Python\n",
    "- R\n",
    "- Scala\n",
    "- Julia\n",
    "- Java"
   ]
  },
  {
   "cell_type": "markdown",
   "id": "252fb240",
   "metadata": {},
   "source": [
    "## Author(s)\n",
    "Bhuvana"
   ]
  },
  {
   "cell_type": "markdown",
   "id": "7055885b",
   "metadata": {},
   "source": []
  },
  {
   "cell_type": "code",
   "execution_count": null,
   "id": "fd12bdd9",
   "metadata": {},
   "outputs": [],
   "source": []
  }
 ],
 "metadata": {
  "kernelspec": {
   "display_name": "Python 3 (ipykernel)",
   "language": "python",
   "name": "python3"
  },
  "language_info": {
   "codemirror_mode": {
    "name": "ipython",
    "version": 3
   },
   "file_extension": ".py",
   "mimetype": "text/x-python",
   "name": "python",
   "nbconvert_exporter": "python",
   "pygments_lexer": "ipython3",
   "version": "3.10.9"
  }
 },
 "nbformat": 4,
 "nbformat_minor": 5
}
